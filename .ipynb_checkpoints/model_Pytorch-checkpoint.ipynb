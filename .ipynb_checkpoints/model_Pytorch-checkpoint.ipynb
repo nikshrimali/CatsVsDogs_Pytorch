{
 "cells": [
  {
   "cell_type": "code",
   "execution_count": 1,
   "metadata": {},
   "outputs": [
    {
     "name": "stdout",
     "output_type": "stream",
     "text": [
      "Reading the data\n",
      "Splitting the dataset\n"
     ]
    }
   ],
   "source": [
    "from GetData import *"
   ]
  },
  {
   "cell_type": "code",
   "execution_count": 2,
   "metadata": {},
   "outputs": [],
   "source": [
    "#Importing the pytorch libraries\n",
    "\n",
    "import torch\n",
    "import torchvision\n",
    "from torchvision import transforms\n",
    "from torch import optim\n",
    "import torch.nn as nn"
   ]
  },
  {
   "cell_type": "code",
   "execution_count": 3,
   "metadata": {},
   "outputs": [],
   "source": [
    "#Clean the data\n",
    "\n",
    "#Convert the dataframe into pytorch tensor\n",
    "#Normalize the images so that they have a mean 0.0 and a standard deviation of 1.0\n",
    "\n",
    "#Storing values in dictionary\n",
    "def preprocess():\n",
    "    data_transforms = {\n",
    "        'train':transforms.Compose([\n",
    "            transforms.RandomCrop(224),\n",
    "            transforms.ToTensor(),\n",
    "            transforms.Normalize((0.5, 0.5, 0.5), (0.5, 0.5, 0.5)),\n",
    "            transforms.RandomHorizontalFlip(0.5)])\n",
    "            }\n",
    "    \n",
    "# class WrapedDataLoader:\n",
    "#     def __init__(self, dl, func):\n",
    "#         self.dl = dl\n",
    "#         self.func = func\n",
    "    \n",
    "#     def __len__(self):\n",
    "#         return len(self.dl)\n",
    "    \n",
    "#     def __iter__(self):\n",
    "#         batches = iter(self.dl)\n",
    "#         for b in batches:\n",
    "#             yield(self.func(*b))\n",
    "\n",
    "trainloader = torch.utils.data.DataLoader(train_data, batch_size=20, shuffle=True)\n",
    "valloader = torch.utils.data.DataLoader(val_data, batch_size=20, shuffle=True)"
   ]
  },
  {
   "cell_type": "code",
   "execution_count": 4,
   "metadata": {},
   "outputs": [],
   "source": [
    "#Building a model\n",
    "\n",
    "class Net(nn.Module):\n",
    "    def __init__(self):\n",
    "        super(Net,self).__init__()\n",
    "        \n",
    "        self_cnn_layers = nn.Sequential(\n",
    "            nn.Conv2d(3, 64, stride = 1, kernel_size= 3,padding = 1), #Conv layer 1\n",
    "            nn.MaxPool2d(kernel_size=2, stride=2), #Maxpool 1\n",
    "            nn.BatchNorm2d(4), #BatchNorm 1\n",
    "            nn.ReLU(inplace = True), #Relu\n",
    "            nn.Conv2d(32,128, stride = 1, kernel_size = 3 ,padding = 1), #Conv layer 2\n",
    "            nn.MaxPool2d(kernel_size=2, stride=2), #Maxpooling 2\n",
    "            nn.BatchNorm2d(4), #BatchNorm 2\n",
    "            nn.ReLU(inplace = True), #Relu\n",
    "            nn.Conv2d(64,256, stride = 1 , kernel_size = 3 ,padding = 1), #Conv Layer 3\n",
    "            nn.MaxPool2d(kernel_size=2, stride=2), #Maxpooling 3\n",
    "            nn.ReLU(inplace = True), #Relu \n",
    "            nn.AdaptiveAvgPool2d((6,))\n",
    "        )\n",
    "        \n",
    "        self.linear_layers = nn.Sequential(nn.Linear(128*225*225,6))\n",
    "\n",
    "        \n",
    "        #Defining a forward pass\n",
    "        \n",
    "        def forward(self, x):\n",
    "            x = self.cnn_layers(x)\n",
    "            x = x.view(x.size(0),-1)\n",
    "            x = self.linear_layers(x)\n",
    "            return x\n"
   ]
  },
  {
   "cell_type": "code",
   "execution_count": 5,
   "metadata": {},
   "outputs": [
    {
     "name": "stdout",
     "output_type": "stream",
     "text": [
      "Net(\n",
      "  (linear_layers): Sequential(\n",
      "    (0): Linear(in_features=6480000, out_features=6, bias=True)\n",
      "  )\n",
      ")\n"
     ]
    }
   ],
   "source": [
    "model = Net()\n",
    "print(model)"
   ]
  },
  {
   "cell_type": "code",
   "execution_count": 6,
   "metadata": {},
   "outputs": [
    {
     "name": "stdout",
     "output_type": "stream",
     "text": [
      "Net(\n",
      "  (linear_layers): Sequential(\n",
      "    (0): Linear(in_features=6480000, out_features=6, bias=True)\n",
      "  )\n",
      ")\n"
     ]
    },
    {
     "ename": "AttributeError",
     "evalue": "'Net' object has no attribute 'fit'",
     "output_type": "error",
     "traceback": [
      "\u001b[1;31m---------------------------------------------------------------------------\u001b[0m",
      "\u001b[1;31mAttributeError\u001b[0m                            Traceback (most recent call last)",
      "\u001b[1;32m<ipython-input-6-defcc01184d5>\u001b[0m in \u001b[0;36m<module>\u001b[1;34m\u001b[0m\n\u001b[0;32m      9\u001b[0m \u001b[0mprint\u001b[0m\u001b[1;33m(\u001b[0m\u001b[0mmodel\u001b[0m\u001b[1;33m)\u001b[0m\u001b[1;33m\u001b[0m\u001b[1;33m\u001b[0m\u001b[0m\n\u001b[0;32m     10\u001b[0m \u001b[1;33m\u001b[0m\u001b[0m\n\u001b[1;32m---> 11\u001b[1;33m \u001b[0mmodel\u001b[0m\u001b[1;33m.\u001b[0m\u001b[0mfit\u001b[0m\u001b[1;33m(\u001b[0m\u001b[0mepochs\u001b[0m\u001b[1;33m,\u001b[0m \u001b[0mmodel\u001b[0m\u001b[1;33m,\u001b[0m \u001b[0mloss_func\u001b[0m\u001b[1;33m,\u001b[0m \u001b[0mopt\u001b[0m\u001b[1;33m,\u001b[0m \u001b[0mtrain_dl\u001b[0m\u001b[1;33m)\u001b[0m\u001b[1;33m\u001b[0m\u001b[1;33m\u001b[0m\u001b[0m\n\u001b[0m",
      "\u001b[1;32m~\\AppData\\Local\\conda\\conda\\envs\\asdf\\lib\\site-packages\\torch\\nn\\modules\\module.py\u001b[0m in \u001b[0;36m__getattr__\u001b[1;34m(self, name)\u001b[0m\n\u001b[0;32m    573\u001b[0m             \u001b[1;32mif\u001b[0m \u001b[0mname\u001b[0m \u001b[1;32min\u001b[0m \u001b[0mmodules\u001b[0m\u001b[1;33m:\u001b[0m\u001b[1;33m\u001b[0m\u001b[1;33m\u001b[0m\u001b[0m\n\u001b[0;32m    574\u001b[0m                 \u001b[1;32mreturn\u001b[0m \u001b[0mmodules\u001b[0m\u001b[1;33m[\u001b[0m\u001b[0mname\u001b[0m\u001b[1;33m]\u001b[0m\u001b[1;33m\u001b[0m\u001b[1;33m\u001b[0m\u001b[0m\n\u001b[1;32m--> 575\u001b[1;33m         raise AttributeError(\"'{}' object has no attribute '{}'\".format(\n\u001b[0m\u001b[0;32m    576\u001b[0m             type(self).__name__, name))\n\u001b[0;32m    577\u001b[0m \u001b[1;33m\u001b[0m\u001b[0m\n",
      "\u001b[1;31mAttributeError\u001b[0m: 'Net' object has no attribute 'fit'"
     ]
    }
   ],
   "source": [
    "import time\n",
    "\n",
    "def trainNet(net, batch_size, n_epochs, l_rate):\n",
    "#Backpropagation - Using SGD\n",
    "    print(\"=======Hyperparameters=========\")\n",
    "    print(\"batch_size=\", batch_size)\n",
    "    print(\"epochs=\", n_epochs)\n",
    "    print(\"learning_rate=\", learning_rate)\n",
    "    print(\"=\" * 30)\n",
    "    \n",
    "    #Getting training data\n",
    "    train_loader = get_train_loader(batch_size)\n",
    "    n_batches = len(train_loader)\n",
    "    \n",
    "    \n",
    "    optimizer = optim.SGD(model.parameters(), lr = 0.001, momentum = 0.9) \n",
    "    #Defining an optimizer - SGD\n",
    "    loss = nn.CrossEntropyLoss()\n",
    "    #Checking if GPU is available\n",
    "    if torch.cuda.is_available():\n",
    "        model = model.cuda()\n",
    "        loss = loss.cuda()\n",
    "\n",
    "    print(model)\n",
    "    for epoch in range(n_epochs):\n",
    "        running_loss = 0.0\n",
    "        print_every = n_batches // 10\n",
    "        start_time = time.time()\n",
    "        total_train_loss = 0\n",
    "        \n",
    "        for i,data in enumerate(train_loader,0):\n",
    "            #Wrapping in a variable object??\n",
    "            inputs, labels = Variable(inputs), Variable(labels)\n",
    "\n",
    "            #Set Parameters gradients to 0\n",
    "            optimizer.zero_grad()\n",
    "\n",
    "            #Forward pass, backward pass\n",
    "            outputs = net(inputs)\n",
    "            loss_size = loss(outputs, labels)\n",
    "            loss_size.backward()\n",
    "            optimizer.step()\n",
    "\n",
    "            #Printing statistics\n",
    "            running_loss += loss_size.data[0]\n",
    "            total_train_loss += loss_size.data[0]\n",
    "            \n",
    "            \n",
    "        for inputs, labels in val_loader:\n",
    "\n",
    "            inputs, labels = Variable(inputs), Variable(labels)\n",
    "\n",
    "            #Forward pass\n",
    "            val_outputs = net(inputs)\n",
    "            val_loss_size  = loss(val_outputs, labels)\n",
    "            total_val_loss= +=val_loss_size.data[0]\n",
    "\n",
    "        print(\"Validation loss = {:.2f}\".format(total_val_loss / len(val_loader)))\n",
    "\n",
    "     print(\"Training finished, took {:.2f}s\".format(time.time() - training_start_time)"
   ]
  },
  {
   "cell_type": "code",
   "execution_count": null,
   "metadata": {},
   "outputs": [],
   "source": []
  }
 ],
 "metadata": {
  "kernelspec": {
   "display_name": "Python 3",
   "language": "python",
   "name": "python3"
  },
  "language_info": {
   "codemirror_mode": {
    "name": "ipython",
    "version": 3
   },
   "file_extension": ".py",
   "mimetype": "text/x-python",
   "name": "python",
   "nbconvert_exporter": "python",
   "pygments_lexer": "ipython3",
   "version": "3.8.1"
  }
 },
 "nbformat": 4,
 "nbformat_minor": 4
}
