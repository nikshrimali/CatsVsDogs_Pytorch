{
 "cells": [
  {
   "cell_type": "code",
   "execution_count": 36,
   "metadata": {},
   "outputs": [],
   "source": [
    "#Importing the libraries\n",
    "\n",
    "from torch import nn, randn, tensor, optim, argmax, no_grad, save\n",
    "import torch.nn.functional as F\n",
    "import numpy as np\n",
    "from cv2 import imread\n",
    "import cv2\n",
    "import os\n",
    "import matplotlib.pyplot as plt\n",
    "from tqdm import tqdm\n"
   ]
  },
  {
   "cell_type": "code",
   "execution_count": 2,
   "metadata": {},
   "outputs": [],
   "source": [
    "#Reading the images\n",
    "class preprocess():\n",
    "    data_list = []\n",
    "    catcount = 0\n",
    "    dogcount = 0\n",
    "\n",
    "    rootdir = ('../Datasets/kagglecatsanddogs_3367a/')\n",
    "    Cats = \"../Datasets/kagglecatsanddogs_3367a/PetImages/Cat\"\n",
    "    Dogs = \"../Datasets/kagglecatsanddogs_3367a/PetImages/Dog\"\n",
    "    cat_dir = {Cats:0, Dogs:1}\n",
    "\n",
    "    def get_data(self):    \n",
    "        for labels in self.cat_dir:\n",
    "            print(labels)\n",
    "            for img in tqdm(os.listdir(labels)):\n",
    "                try:\n",
    "                    img_path = os.path.join(labels, img)\n",
    "                    img = imread(img_path, cv2.IMREAD_GRAYSCALE) #Converting the image to numpy array\n",
    "                    img = cv2.resize(img,(50,50)) #Resizing the image to 50*50\n",
    "                    self.data_list.append([np.array(img), np.eye(2)[self.cat_dir[labels]]]) #Appending the image data and label into list\n",
    "\n",
    "                    if labels == self.Cats:\n",
    "                        self.catcount+=1    \n",
    "                    else:\n",
    "                        self.dogcount+=1\n",
    "                except Exception as e: \n",
    "                    pass\n",
    "\n",
    "\n",
    "        print('No of cats: ', self.catcount)\n",
    "        print('No of dogs: ', self.dogcount)\n",
    "        \n",
    "        if self.data_list is None:\n",
    "            print('Empty list')\n",
    "            \n",
    "        else:\n",
    "            np.random.shuffle(self.data_list)  #Shuffle the numpy indices\n",
    "            np.save('training_data.npy', self.data_list) #Save data into memory\n",
    "\n"
   ]
  },
  {
   "cell_type": "code",
   "execution_count": 3,
   "metadata": {},
   "outputs": [],
   "source": [
    "#Only gets data in case there is no training_data.npy file is present, else use it from memory\n",
    "\n",
    "if(os.path.isfile('training_data.npy') == True):\n",
    "    data = np.load('training_data.npy', allow_pickle=True)\n",
    "    \n",
    "else:\n",
    "    preprocess = preprocess()\n",
    "    preprocess.get_data()"
   ]
  },
  {
   "cell_type": "code",
   "execution_count": 4,
   "metadata": {},
   "outputs": [
    {
     "name": "stdout",
     "output_type": "stream",
     "text": [
      "net(\n",
      "  (cnn1): Conv2d(1, 32, kernel_size=(5, 5), stride=(1, 1))\n",
      "  (cnn2): Conv2d(32, 64, kernel_size=(5, 5), stride=(1, 1))\n",
      "  (cnn3): Conv2d(64, 128, kernel_size=(5, 5), stride=(1, 1))\n",
      "  (fc1): Linear(in_features=512, out_features=512, bias=True)\n",
      "  (fc2): Linear(in_features=512, out_features=2, bias=True)\n",
      ")\n"
     ]
    }
   ],
   "source": [
    "#Building the neural network\n",
    "\n",
    "class net(nn.Module):\n",
    "    def __init__(self):\n",
    "        super().__init__()\n",
    "        self.cnn1 = nn.Conv2d(1, 32, 5)\n",
    "        self.cnn2 = nn.Conv2d(32, 64, 5) #(in_channels=32, out_channels=64, stride=1, kernel_size=5)\n",
    "        self.cnn3 = nn.Conv2d(64, 128, 5) #(in_channels=64, out_channels=128, stride=1, kernel_size=5)\n",
    "        \n",
    "        x = randn(50*50).view(-1,1,50,50)\n",
    "        self._to_linear = None\n",
    "        self.convs(x)\n",
    "        \n",
    "        self.fc1 = nn.Linear(in_features=self._to_linear, out_features=512)\n",
    "        self.fc2 = nn.Linear(in_features=512, out_features=2)\n",
    "    \n",
    "    def convs(self,x):\n",
    "        \n",
    "        x = F.max_pool2d(F.relu(self.cnn1(x)), (2,2))\n",
    "        x = F.max_pool2d(F.relu(self.cnn2(x)), (2,2))\n",
    "        x = F.max_pool2d(F.relu(self.cnn3(x)), (2,2))\n",
    "        \n",
    "        if self._to_linear is None:\n",
    "            self._to_linear = x[0].shape[0]*x[0].shape[1]*x[0].shape[2]\n",
    "        return x\n",
    "\n",
    "    def forward(self,x):\n",
    "        x = self.convs(x)\n",
    "        x=x.view(-1, self._to_linear)\n",
    "        x = F.relu(self.fc1(x))\n",
    "        x = self.fc2(x)\n",
    "        return F.softmax(x,dim=1)\n",
    "    \n",
    "net = net()\n",
    "print(net)"
   ]
  },
  {
   "cell_type": "code",
   "execution_count": 5,
   "metadata": {},
   "outputs": [
    {
     "name": "stdout",
     "output_type": "stream",
     "text": [
      "Size of the validation sample is:  2494\n",
      "Test set:  2494  Training set:  22452\n"
     ]
    }
   ],
   "source": [
    "#Importing the optimizer\n",
    "optimizer = optim.Adam(net.parameters(), lr = 0.001) #Declaring the optimizer\n",
    "loss_functions = nn.MSELoss()\n",
    "\n",
    "\n",
    "#Seperating X's and y's in our dataset\n",
    "\n",
    "X = tensor([i[0] for i in data]).view(-1,50,50)\n",
    "X = X/255.0 #Normalizing the images as preprocessing\n",
    "y = tensor([i[1] for i in data])\n",
    "\n",
    "\n",
    "#Splitting the dataset into training and testing\n",
    "\n",
    "VAL_PER = 0.1\n",
    "valid_sample = int(len(X)*VAL_PER)\n",
    "print('Size of the validation sample is: ', valid_sample)\n",
    "\n",
    "X_train = X[:-valid_sample]\n",
    "y_train = y[:-valid_sample]\n",
    "\n",
    "# total_length = (len(data) - valid_sample)\n",
    "\n",
    "# testing_per = 0.2\n",
    "# test_sample = int(total_length*testing_per)\n",
    "\n",
    "X_test = X[-valid_sample:]\n",
    "y_test = y[-valid_sample:]\n",
    "\n",
    "# train = len(data) - total_length\n",
    "print('Test set: ',len(X_test), ' Training set: ', len(X_train))\n"
   ]
  },
  {
   "cell_type": "code",
   "execution_count": 6,
   "metadata": {},
   "outputs": [
    {
     "data": {
      "text/plain": [
       "torch.Size([22452, 50, 50])"
      ]
     },
     "execution_count": 6,
     "metadata": {},
     "output_type": "execute_result"
    }
   ],
   "source": [
    "X_train.shape"
   ]
  },
  {
   "cell_type": "code",
   "execution_count": 9,
   "metadata": {},
   "outputs": [
    {
     "name": "stderr",
     "output_type": "stream",
     "text": [
      "100%|████████████████████████████████████████████████████████████████████████████████| 702/702 [02:07<00:00,  5.50it/s]\n",
      "100%|████████████████████████████████████████████████████████████████████████████████| 702/702 [02:13<00:00,  5.26it/s]\n",
      "100%|████████████████████████████████████████████████████████████████████████████████| 702/702 [02:23<00:00,  4.90it/s]\n"
     ]
    },
    {
     "name": "stdout",
     "output_type": "stream",
     "text": [
      "Overall loss of the model is:  tensor(0.1385, dtype=torch.float64, grad_fn=<MseLossBackward>)\n"
     ]
    }
   ],
   "source": [
    "EPOCHS = 3\n",
    "BATCH_SIZE = 32\n",
    "loss = None\n",
    "for j in range(EPOCHS):\n",
    "\n",
    "    for i in tqdm(range(0, len(X_train), BATCH_SIZE)):\n",
    "        batch_X = X_train[i:BATCH_SIZE+i].view(-1,1,50,50)\n",
    "        batch_y = (y_train[i:BATCH_SIZE+i]).double()\n",
    "        \n",
    "        net.zero_grad() #Why Zeeo grad?\n",
    "        output = net(batch_X).double()\n",
    "        loss = loss_functions(output, batch_y)\n",
    "        loss.backward()\n",
    "        optimizer.step()\n",
    "        \n",
    "print('Overall loss of the model is: ', loss)        \n",
    " "
   ]
  },
  {
   "cell_type": "code",
   "execution_count": 39,
   "metadata": {},
   "outputs": [],
   "source": [
    "save(net.state_dict(),'model.h5')"
   ]
  },
  {
   "cell_type": "code",
   "execution_count": 35,
   "metadata": {},
   "outputs": [
    {
     "name": "stderr",
     "output_type": "stream",
     "text": [
      "100%|███████████████████████████████████████████████████████████████████████████| 2494/2494 [00:00<00:00, 13717.28it/s]"
     ]
    },
    {
     "name": "stdout",
     "output_type": "stream",
     "text": [
      "Overall accuracy of the model is:  78.1074578989575\n"
     ]
    },
    {
     "name": "stderr",
     "output_type": "stream",
     "text": [
      "\n"
     ]
    }
   ],
   "source": [
    "#Accuracy metrics\n",
    "total = 0\n",
    "correct = 0\n",
    "with no_grad():\n",
    "    y_pred_test = (net(X_test.view(-1,1,50,50)))\n",
    "\n",
    "    for i in tqdm(range(len(X_test))):\n",
    "        total = total + 1\n",
    "        if (argmax(y_pred_test[i])) == (argmax(y_test[i])):\n",
    "            correct = correct +1\n",
    "\n",
    "print('Overall accuracy of the model is: ', correct/total*100)"
   ]
  }
 ],
 "metadata": {
  "kernelspec": {
   "display_name": "Python [conda env:pytorch]",
   "language": "python",
   "name": "conda-env-pytorch-py"
  },
  "language_info": {
   "codemirror_mode": {
    "name": "ipython",
    "version": 3
   },
   "file_extension": ".py",
   "mimetype": "text/x-python",
   "name": "python",
   "nbconvert_exporter": "python",
   "pygments_lexer": "ipython3",
   "version": "3.7.6"
  }
 },
 "nbformat": 4,
 "nbformat_minor": 4
}
